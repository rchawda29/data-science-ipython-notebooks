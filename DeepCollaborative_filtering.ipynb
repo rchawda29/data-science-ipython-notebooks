{
  "cells": [
    {
      "cell_type": "markdown",
      "metadata": {
        "id": "view-in-github",
        "colab_type": "text"
      },
      "source": [
        "<a href=\"https://colab.research.google.com/github/rchawda29/data-science-ipython-notebooks/blob/master/DeepCollaborative_filtering.ipynb\" target=\"_parent\"><img src=\"https://colab.research.google.com/assets/colab-badge.svg\" alt=\"Open In Colab\"/></a>"
      ]
    },
    {
      "cell_type": "code",
      "execution_count": 5,
      "metadata": {
        "colab": {
          "base_uri": "https://localhost:8080/"
        },
        "id": "_EBdPYsqgQ2i",
        "outputId": "42028802-b64d-40c2-a0f6-1bab8abc0e3f"
      },
      "outputs": [
        {
          "output_type": "stream",
          "name": "stdout",
          "text": [
            "Cloning into 'DeepCF'...\n",
            "remote: Enumerating objects: 55, done.\u001b[K\n",
            "remote: Total 55 (delta 0), reused 0 (delta 0), pack-reused 55\u001b[K\n",
            "Receiving objects: 100% (55/55), 48.26 MiB | 22.00 MiB/s, done.\n",
            "Resolving deltas: 100% (16/16), done.\n"
          ]
        }
      ],
      "source": [
        "!git clone https://github.com/familyld/DeepCF.git"
      ]
    },
    {
      "cell_type": "code",
      "execution_count": 6,
      "metadata": {
        "colab": {
          "base_uri": "https://localhost:8080/"
        },
        "id": "QJi_6Y_ZgVZx",
        "outputId": "6606f936-d05a-4299-cfdf-2b4b49d54a52"
      },
      "outputs": [
        {
          "output_type": "stream",
          "name": "stdout",
          "text": [
            "\u001b[31mERROR: Could not find a version that satisfies the requirement tensorflow-gpu==1.7.0 (from versions: 2.8.0rc0, 2.8.0rc1, 2.8.0, 2.8.1, 2.8.2, 2.8.3, 2.8.4, 2.9.0rc0, 2.9.0rc1, 2.9.0rc2, 2.9.0, 2.9.1, 2.9.2, 2.9.3, 2.10.0rc0, 2.10.0rc1, 2.10.0rc2, 2.10.0rc3, 2.10.0, 2.10.1, 2.11.0rc0, 2.11.0rc1, 2.11.0rc2, 2.11.0, 2.12.0)\u001b[0m\u001b[31m\n",
            "\u001b[0m\u001b[31mERROR: No matching distribution found for tensorflow-gpu==1.7.0\u001b[0m\u001b[31m\n",
            "\u001b[0m"
          ]
        }
      ],
      "source": [
        "# !pip install keras==2.1.4\n",
        "!pip install tensorflow-gpu==1.7.0"
      ]
    },
    {
      "cell_type": "code",
      "execution_count": null,
      "metadata": {
        "colab": {
          "base_uri": "https://localhost:8080/"
        },
        "id": "DXIepFWYgmyr",
        "outputId": "d541a05c-5a45-4918-a487-558fe0e9669e"
      },
      "outputs": [
        {
          "output_type": "stream",
          "name": "stdout",
          "text": [
            "2023-12-21 06:23:19.489856: E external/local_xla/xla/stream_executor/cuda/cuda_dnn.cc:9261] Unable to register cuDNN factory: Attempting to register factory for plugin cuDNN when one has already been registered\n",
            "2023-12-21 06:23:19.489918: E external/local_xla/xla/stream_executor/cuda/cuda_fft.cc:607] Unable to register cuFFT factory: Attempting to register factory for plugin cuFFT when one has already been registered\n",
            "2023-12-21 06:23:19.491353: E external/local_xla/xla/stream_executor/cuda/cuda_blas.cc:1515] Unable to register cuBLAS factory: Attempting to register factory for plugin cuBLAS when one has already been registered\n",
            "2023-12-21 06:23:20.793417: W tensorflow/compiler/tf2tensorrt/utils/py_utils.cc:38] TF-TRT Warning: Could not find TensorRT\n",
            "DMF arguments: Namespace(path='Data/', dataset='ml-1m', epochs=4, batch_size=256, userlayers='[512, 64]', itemlayers='[1024, 64]', num_neg=4, lr=0.0001, learner='adam', verbose=1, out=1) \n",
            "Load data done [15.0 s]. #user=6040, #item=3706, #train=994169, #test=6040\n",
            "(None, 3706) (None, 6040)\n",
            "(None, 512) (None, 1024)\n",
            "(None, 64) (None, 64)\n",
            "(None, 1)\n",
            "WARNING:absl:`lr` is deprecated in Keras optimizer, please use `learning_rate` or use the legacy optimizer, e.g.,tf.keras.optimizers.legacy.Adam.\n",
            "Init: HR = 0.1732, NDCG = 0.0898 [672.5]\n"
          ]
        }
      ],
      "source": [
        "import os\n",
        "new_root_dir = '/content/DeepCF2'\n",
        "os.chdir(new_root_dir)\n",
        "\n",
        "!python DMF.py --dataset ml-1m --epochs 4"
      ]
    },
    {
      "cell_type": "markdown",
      "source": [
        "# New Section"
      ],
      "metadata": {
        "id": "5ILl6eQNCn80"
      }
    },
    {
      "cell_type": "code",
      "execution_count": null,
      "metadata": {
        "id": "XF3dmnupwdMM"
      },
      "outputs": [],
      "source": []
    },
    {
      "cell_type": "code",
      "execution_count": 7,
      "metadata": {
        "colab": {
          "base_uri": "https://localhost:8080/"
        },
        "id": "OA7Ogkg0uWU1",
        "outputId": "eb25f01d-e4fa-4b56-b132-0550fa9b00b2"
      },
      "outputs": [
        {
          "output_type": "stream",
          "name": "stdout",
          "text": [
            "2023-12-21 06:22:13.383833: E external/local_xla/xla/stream_executor/cuda/cuda_dnn.cc:9261] Unable to register cuDNN factory: Attempting to register factory for plugin cuDNN when one has already been registered\n",
            "2023-12-21 06:22:13.383898: E external/local_xla/xla/stream_executor/cuda/cuda_fft.cc:607] Unable to register cuFFT factory: Attempting to register factory for plugin cuFFT when one has already been registered\n",
            "2023-12-21 06:22:13.385218: E external/local_xla/xla/stream_executor/cuda/cuda_blas.cc:1515] Unable to register cuBLAS factory: Attempting to register factory for plugin cuBLAS when one has already been registered\n",
            "2023-12-21 06:22:15.384011: W tensorflow/compiler/tf2tensorrt/utils/py_utils.cc:38] TF-TRT Warning: Could not find TensorRT\n",
            "INFO line 50:57: Changed tf.to_int32 call to tf.cast(..., dtype=tf.int32).\n",
            "INFO line 51:57: Changed tf.to_int32 call to tf.cast(..., dtype=tf.int32).\n",
            "INFO line 49:58: Changed tf.to_int32 call to tf.cast(..., dtype=tf.int32).\n",
            "INFO line 50:58: Changed tf.to_int32 call to tf.cast(..., dtype=tf.int32).\n",
            "INFO line 59:57: Changed tf.to_int32 call to tf.cast(..., dtype=tf.int32).\n",
            "INFO line 60:58: Changed tf.to_int32 call to tf.cast(..., dtype=tf.int32).\n",
            "TensorFlow 2.0 Upgrade Script\n",
            "-----------------------------\n",
            "Converted 5 files\n",
            "Detected 0 issues that require attention\n",
            "--------------------------------------------------------------------------------\n",
            "\n",
            "\n",
            "Make sure to read the detailed log 'report.txt'\n",
            "\n"
          ]
        }
      ],
      "source": [
        "!tf_upgrade_v2 \\\n",
        "--intree '/content/DeepCF/' \\\n",
        "--outtree '/content/DeepCF2/' \\\n",
        "--reportfile report.txt"
      ]
    }
  ],
  "metadata": {
    "colab": {
      "provenance": [],
      "authorship_tag": "ABX9TyOyooROnxRtYUVG9P1xNKAx",
      "include_colab_link": true
    },
    "kernelspec": {
      "display_name": "Python 3",
      "name": "python3"
    },
    "language_info": {
      "name": "python"
    }
  },
  "nbformat": 4,
  "nbformat_minor": 0
}